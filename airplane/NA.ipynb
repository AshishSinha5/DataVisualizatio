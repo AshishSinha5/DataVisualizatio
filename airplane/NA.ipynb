{
 "cells": [
  {
   "cell_type": "code",
   "execution_count": 1,
   "metadata": {},
   "outputs": [
    {
     "name": "stdout",
     "output_type": "stream",
     "text": [
      "Populating the interactive namespace from numpy and matplotlib\n"
     ]
    }
   ],
   "source": [
    "import pandas as pd\n",
    "import numpy as np\n",
    "import seaborn as sns\n",
    "%pylab inline"
   ]
  },
  {
   "cell_type": "code",
   "execution_count": 2,
   "metadata": {},
   "outputs": [],
   "source": [
    "from collections import Counter"
   ]
  },
  {
   "cell_type": "code",
   "execution_count": 3,
   "metadata": {},
   "outputs": [],
   "source": [
    "sns.set(color_codes=True)"
   ]
  },
  {
   "cell_type": "code",
   "execution_count": 4,
   "metadata": {},
   "outputs": [],
   "source": [
    "    df = pd.read_csv(\"train.csv\")\n",
    "    dfTest = pd.read_csv(\"test.csv\")\n"
   ]
  },
  {
   "cell_type": "code",
   "execution_count": 6,
   "metadata": {},
   "outputs": [],
   "source": [
    "X = df.iloc[:,1:].values\n",
    "y = df.iloc[:,0].values\n",
    "X_test = dfTest.values"
   ]
  },
  {
   "cell_type": "code",
   "execution_count": 7,
   "metadata": {},
   "outputs": [],
   "source": [
    "from sklearn.preprocessing import LabelEncoder\n",
    "classLbl = LabelEncoder()\n",
    "y = classLbl.fit_transform(y)"
   ]
  },
  {
   "cell_type": "markdown",
   "metadata": {},
   "source": [
    "# Version 1"
   ]
  },
  {
   "cell_type": "code",
   "execution_count": 78,
   "metadata": {},
   "outputs": [],
   "source": [
    "from sklearn.preprocessing import StandardScaler\n",
    "std = StandardScaler()\n",
    "X, X_test = std.fit_transform(X), std.fit_transform(X_test)"
   ]
  },
  {
   "cell_type": "code",
   "execution_count": 79,
   "metadata": {},
   "outputs": [
    {
     "data": {
      "image/png": "[encoded data removed]",
      "text/plain": [
       "<Figure size 432x288 with 1 Axes>"
      ]
     },
     "metadata": {},
     "output_type": "display_data"
    }
   ],
   "source": [
    "hist(y, bins = 4, width = 0.5, range = (0,3), align = 'mid')\n",
    "xticks([0,1,2,3]);"
   ]
  },
  {
   "cell_type": "code",
   "execution_count": 80,
   "metadata": {},
   "outputs": [
    {
     "name": "stdout",
     "output_type": "stream",
     "text": [
      "Current Distribution of classes  -  Counter({0: 3049, 3: 2729, 1: 2527, 2: 1695})\n"
     ]
    }
   ],
   "source": [
    "print(\"Current Distribution of classes  - \", Counter(y))"
   ]
  },
  {
   "cell_type": "code",
   "execution_count": 81,
   "metadata": {},
   "outputs": [],
   "source": [
    "from imblearn.over_sampling import ADASYN"
   ]
  },
  {
   "cell_type": "code",
   "execution_count": 82,
   "metadata": {},
   "outputs": [],
   "source": [
    "ada = ADASYN(sampling_strategy='minority', random_state=42)\n",
    "X_res, y_res = ada.fit_resample(X, y)"
   ]
  },
  {
   "cell_type": "code",
   "execution_count": 83,
   "metadata": {},
   "outputs": [],
   "source": [
    "from sklearn.model_selection import train_test_split\n",
    "X_train, X_val, y_train, y_val = train_test_split(X_res, y_res, test_size=0.2)"
   ]
  },
  {
   "cell_type": "code",
   "execution_count": 84,
   "metadata": {},
   "outputs": [
    {
     "data": {
      "text/plain": [
       "Counter({1: 2527, 2: 2931, 3: 2729, 0: 3049})"
      ]
     },
     "execution_count": 84,
     "metadata": {},
     "output_type": "execute_result"
    }
   ],
   "source": [
    "Counter(y_res)"
   ]
  },
  {
   "cell_type": "code",
   "execution_count": 85,
   "metadata": {},
   "outputs": [
    {
     "data": {
      "image/png": "[encoded data removed]",
      "text/plain": [
       "<Figure size 432x288 with 1 Axes>"
      ]
     },
     "metadata": {},
     "output_type": "display_data"
    }
   ],
   "source": [
    "hist(y_res, bins = 4, width = 0.5, range = (0,3), align = 'mid')\n",
    "xticks([0,1,2,3]);"
   ]
  },
  {
   "cell_type": "code",
   "execution_count": 86,
   "metadata": {},
   "outputs": [],
   "source": [
    "from xgboost import XGBClassifier\n",
    "from sklearn.metrics import f1_score"
   ]
  },
  {
   "cell_type": "code",
   "execution_count": 87,
   "metadata": {},
   "outputs": [
    {
     "data": {
      "text/plain": [
       "XGBClassifier(base_score=0.5, booster='gbtree', colsample_bylevel=1,\n",
       "              colsample_bynode=1, colsample_bytree=1, gamma=0,\n",
       "              learning_rate=0.1, max_delta_step=0, max_depth=3,\n",
       "              min_child_weight=1, missing=None, n_estimators=100, n_jobs=1,\n",
       "              nthread=None, objective='multi:softprob', random_state=0,\n",
       "              reg_alpha=0, reg_lambda=1, scale_pos_weight=1, seed=None,\n",
       "              silent=None, subsample=1, verbosity=1)"
      ]
     },
     "execution_count": 87,
     "metadata": {},
     "output_type": "execute_result"
    }
   ],
   "source": [
    "model = XGBClassifier()\n",
    "model.fit(X_train,y_train)"
   ]
  },
  {
   "cell_type": "code",
   "execution_count": 88,
   "metadata": {},
   "outputs": [],
   "source": [
    "y_pred_val = model.predict(X_val)\n",
    "f1_val = f1_score(y_val, y_pred_val, average='weighted')"
   ]
  },
  {
   "cell_type": "code",
   "execution_count": 89,
   "metadata": {},
   "outputs": [
    {
     "data": {
      "text/plain": [
       "0.8504369534870182"
      ]
     },
     "execution_count": 89,
     "metadata": {},
     "output_type": "execute_result"
    }
   ],
   "source": [
    "f1_val"
   ]
  },
  {
   "cell_type": "code",
   "execution_count": 90,
   "metadata": {},
   "outputs": [],
   "source": [
    "y_pred_test = model.predict(X_test)\n",
    "y_pred_test = classLbl.inverse_transform(y_pred_test)\n",
    "df_res = pd.DataFrame()\n",
    "df_res['Accident_ID'] = dfTest['Accident_ID']\n",
    "df_res['Severity'] = y_pred_test"
   ]
  },
  {
   "cell_type": "code",
   "execution_count": 74,
   "metadata": {},
   "outputs": [
    {
     "data": {
      "text/plain": [
       "(10000, 11)"
      ]
     },
     "execution_count": 74,
     "metadata": {},
     "output_type": "execute_result"
    }
   ],
   "source": [
    "X.shape"
   ]
  },
  {
   "cell_type": "code",
   "execution_count": 75,
   "metadata": {},
   "outputs": [
    {
     "data": {
      "text/plain": [
       "(2500, 10)"
      ]
     },
     "execution_count": 75,
     "metadata": {},
     "output_type": "execute_result"
    }
   ],
   "source": [
    "X_test.shape"
   ]
  },
  {
   "cell_type": "code",
   "execution_count": 92,
   "metadata": {},
   "outputs": [],
   "source": [
    "df_res[['Accident_ID', 'Severity']].to_csv('predictions.csv', encoding='utf-8', index = False)"
   ]
  },
  {
   "cell_type": "markdown",
   "metadata": {},
   "source": [
    "# Version 2"
   ]
  },
  {
   "cell_type": "code",
   "execution_count": 1,
   "metadata": {},
   "outputs": [],
   "source": [
    "#so I also created an xGboost model... achieved 85.09 score....\n",
    "#i encoded the categorical features like 'Violations', 'Accident_Type_Code', 'Total_Safety_Complaints', 'Days_Since_Inspection' using onehot encoder..."
   ]
  },
  {
   "cell_type": "code",
   "execution_count": 5,
   "metadata": {},
   "outputs": [
    {
     "data": {
      "text/html": [
       "<div>\n",
       "<style scoped>\n",
       "    .dataframe tbody tr th:only-of-type {\n",
       "        vertical-align: middle;\n",
       "    }\n",
       "\n",
       "    .dataframe tbody tr th {\n",
       "        vertical-align: top;\n",
       "    }\n",
       "\n",
       "    .dataframe thead th {\n",
       "        text-align: right;\n",
       "    }\n",
       "</style>\n",
       "<table border=\"1\" class=\"dataframe\">\n",
       "  <thead>\n",
       "    <tr style=\"text-align: right;\">\n",
       "      <th></th>\n",
       "      <th>Severity</th>\n",
       "      <th>Safety_Score</th>\n",
       "      <th>Days_Since_Inspection</th>\n",
       "      <th>Total_Safety_Complaints</th>\n",
       "      <th>Control_Metric</th>\n",
       "      <th>Turbulence_In_gforces</th>\n",
       "      <th>Cabin_Temperature</th>\n",
       "      <th>Accident_Type_Code</th>\n",
       "      <th>Max_Elevation</th>\n",
       "      <th>Violations</th>\n",
       "      <th>Adverse_Weather_Metric</th>\n",
       "      <th>Accident_ID</th>\n",
       "    </tr>\n",
       "  </thead>\n",
       "  <tbody>\n",
       "    <tr>\n",
       "      <td>0</td>\n",
       "      <td>Minor_Damage_And_Injuries</td>\n",
       "      <td>49.223744</td>\n",
       "      <td>14</td>\n",
       "      <td>22</td>\n",
       "      <td>71.285324</td>\n",
       "      <td>0.272118</td>\n",
       "      <td>78.04</td>\n",
       "      <td>2</td>\n",
       "      <td>31335.476824</td>\n",
       "      <td>3</td>\n",
       "      <td>0.424352</td>\n",
       "      <td>7570</td>\n",
       "    </tr>\n",
       "    <tr>\n",
       "      <td>1</td>\n",
       "      <td>Minor_Damage_And_Injuries</td>\n",
       "      <td>62.465753</td>\n",
       "      <td>10</td>\n",
       "      <td>27</td>\n",
       "      <td>72.288058</td>\n",
       "      <td>0.423939</td>\n",
       "      <td>84.54</td>\n",
       "      <td>2</td>\n",
       "      <td>26024.711057</td>\n",
       "      <td>2</td>\n",
       "      <td>0.352350</td>\n",
       "      <td>12128</td>\n",
       "    </tr>\n",
       "    <tr>\n",
       "      <td>2</td>\n",
       "      <td>Significant_Damage_And_Fatalities</td>\n",
       "      <td>63.059361</td>\n",
       "      <td>13</td>\n",
       "      <td>16</td>\n",
       "      <td>66.362808</td>\n",
       "      <td>0.322604</td>\n",
       "      <td>78.86</td>\n",
       "      <td>7</td>\n",
       "      <td>39269.053927</td>\n",
       "      <td>3</td>\n",
       "      <td>0.003364</td>\n",
       "      <td>2181</td>\n",
       "    </tr>\n",
       "    <tr>\n",
       "      <td>3</td>\n",
       "      <td>Significant_Damage_And_Serious_Injuries</td>\n",
       "      <td>48.082192</td>\n",
       "      <td>11</td>\n",
       "      <td>9</td>\n",
       "      <td>74.703737</td>\n",
       "      <td>0.337029</td>\n",
       "      <td>81.79</td>\n",
       "      <td>3</td>\n",
       "      <td>42771.499200</td>\n",
       "      <td>1</td>\n",
       "      <td>0.211728</td>\n",
       "      <td>5946</td>\n",
       "    </tr>\n",
       "    <tr>\n",
       "      <td>4</td>\n",
       "      <td>Significant_Damage_And_Fatalities</td>\n",
       "      <td>26.484018</td>\n",
       "      <td>13</td>\n",
       "      <td>25</td>\n",
       "      <td>47.948952</td>\n",
       "      <td>0.541140</td>\n",
       "      <td>77.16</td>\n",
       "      <td>3</td>\n",
       "      <td>35509.228515</td>\n",
       "      <td>2</td>\n",
       "      <td>0.176883</td>\n",
       "      <td>9054</td>\n",
       "    </tr>\n",
       "  </tbody>\n",
       "</table>\n",
       "</div>"
      ],
      "text/plain": [
       "                                  Severity  Safety_Score  \\\n",
       "0                Minor_Damage_And_Injuries     49.223744   \n",
       "1                Minor_Damage_And_Injuries     62.465753   \n",
       "2        Significant_Damage_And_Fatalities     63.059361   \n",
       "3  Significant_Damage_And_Serious_Injuries     48.082192   \n",
       "4        Significant_Damage_And_Fatalities     26.484018   \n",
       "\n",
       "   Days_Since_Inspection  Total_Safety_Complaints  Control_Metric  \\\n",
       "0                     14                       22       71.285324   \n",
       "1                     10                       27       72.288058   \n",
       "2                     13                       16       66.362808   \n",
       "3                     11                        9       74.703737   \n",
       "4                     13                       25       47.948952   \n",
       "\n",
       "   Turbulence_In_gforces  Cabin_Temperature  Accident_Type_Code  \\\n",
       "0               0.272118              78.04                   2   \n",
       "1               0.423939              84.54                   2   \n",
       "2               0.322604              78.86                   7   \n",
       "3               0.337029              81.79                   3   \n",
       "4               0.541140              77.16                   3   \n",
       "\n",
       "   Max_Elevation  Violations  Adverse_Weather_Metric  Accident_ID  \n",
       "0   31335.476824           3                0.424352         7570  \n",
       "1   26024.711057           2                0.352350        12128  \n",
       "2   39269.053927           3                0.003364         2181  \n",
       "3   42771.499200           1                0.211728         5946  \n",
       "4   35509.228515           2                0.176883         9054  "
      ]
     },
     "execution_count": 5,
     "metadata": {},
     "output_type": "execute_result"
    }
   ],
   "source": [
    "df.head()"
   ]
  },
  {
   "cell_type": "code",
   "execution_count": 7,
   "metadata": {},
   "outputs": [
    {
     "data": {
      "text/html": [
       "<div>\n",
       "<style scoped>\n",
       "    .dataframe tbody tr th:only-of-type {\n",
       "        vertical-align: middle;\n",
       "    }\n",
       "\n",
       "    .dataframe tbody tr th {\n",
       "        vertical-align: top;\n",
       "    }\n",
       "\n",
       "    .dataframe thead th {\n",
       "        text-align: right;\n",
       "    }\n",
       "</style>\n",
       "<table border=\"1\" class=\"dataframe\">\n",
       "  <thead>\n",
       "    <tr style=\"text-align: right;\">\n",
       "      <th></th>\n",
       "      <th>Safety_Score</th>\n",
       "      <th>Days_Since_Inspection</th>\n",
       "      <th>Total_Safety_Complaints</th>\n",
       "      <th>Control_Metric</th>\n",
       "      <th>Turbulence_In_gforces</th>\n",
       "      <th>Cabin_Temperature</th>\n",
       "      <th>Accident_Type_Code</th>\n",
       "      <th>Max_Elevation</th>\n",
       "      <th>Violations</th>\n",
       "      <th>Adverse_Weather_Metric</th>\n",
       "      <th>Accident_ID</th>\n",
       "    </tr>\n",
       "  </thead>\n",
       "  <tbody>\n",
       "    <tr>\n",
       "      <td>count</td>\n",
       "      <td>10000.000000</td>\n",
       "      <td>10000.000000</td>\n",
       "      <td>10000.000000</td>\n",
       "      <td>10000.000000</td>\n",
       "      <td>10000.000000</td>\n",
       "      <td>10000.000000</td>\n",
       "      <td>10000.000000</td>\n",
       "      <td>10000.000000</td>\n",
       "      <td>10000.00000</td>\n",
       "      <td>10000.000000</td>\n",
       "      <td>10000.000000</td>\n",
       "    </tr>\n",
       "    <tr>\n",
       "      <td>mean</td>\n",
       "      <td>41.876406</td>\n",
       "      <td>12.931100</td>\n",
       "      <td>6.564300</td>\n",
       "      <td>65.145324</td>\n",
       "      <td>0.381495</td>\n",
       "      <td>79.969331</td>\n",
       "      <td>3.814900</td>\n",
       "      <td>32001.803282</td>\n",
       "      <td>2.01220</td>\n",
       "      <td>0.255635</td>\n",
       "      <td>6266.554200</td>\n",
       "    </tr>\n",
       "    <tr>\n",
       "      <td>std</td>\n",
       "      <td>16.138072</td>\n",
       "      <td>3.539803</td>\n",
       "      <td>6.971982</td>\n",
       "      <td>11.882934</td>\n",
       "      <td>0.121301</td>\n",
       "      <td>2.759739</td>\n",
       "      <td>1.902577</td>\n",
       "      <td>9431.995196</td>\n",
       "      <td>1.03998</td>\n",
       "      <td>0.381128</td>\n",
       "      <td>3610.170288</td>\n",
       "    </tr>\n",
       "    <tr>\n",
       "      <td>min</td>\n",
       "      <td>0.000000</td>\n",
       "      <td>1.000000</td>\n",
       "      <td>0.000000</td>\n",
       "      <td>0.000000</td>\n",
       "      <td>0.134000</td>\n",
       "      <td>74.740000</td>\n",
       "      <td>1.000000</td>\n",
       "      <td>831.695553</td>\n",
       "      <td>0.00000</td>\n",
       "      <td>0.000316</td>\n",
       "      <td>2.000000</td>\n",
       "    </tr>\n",
       "    <tr>\n",
       "      <td>25%</td>\n",
       "      <td>30.593607</td>\n",
       "      <td>11.000000</td>\n",
       "      <td>2.000000</td>\n",
       "      <td>56.927985</td>\n",
       "      <td>0.293665</td>\n",
       "      <td>77.960000</td>\n",
       "      <td>2.000000</td>\n",
       "      <td>25757.636908</td>\n",
       "      <td>1.00000</td>\n",
       "      <td>0.012063</td>\n",
       "      <td>3139.750000</td>\n",
       "    </tr>\n",
       "    <tr>\n",
       "      <td>50%</td>\n",
       "      <td>41.278539</td>\n",
       "      <td>13.000000</td>\n",
       "      <td>4.000000</td>\n",
       "      <td>65.587967</td>\n",
       "      <td>0.365879</td>\n",
       "      <td>79.540000</td>\n",
       "      <td>4.000000</td>\n",
       "      <td>32060.336419</td>\n",
       "      <td>2.00000</td>\n",
       "      <td>0.074467</td>\n",
       "      <td>6280.500000</td>\n",
       "    </tr>\n",
       "    <tr>\n",
       "      <td>75%</td>\n",
       "      <td>52.511416</td>\n",
       "      <td>15.000000</td>\n",
       "      <td>9.000000</td>\n",
       "      <td>73.336372</td>\n",
       "      <td>0.451346</td>\n",
       "      <td>81.560000</td>\n",
       "      <td>5.000000</td>\n",
       "      <td>38380.641513</td>\n",
       "      <td>3.00000</td>\n",
       "      <td>0.354059</td>\n",
       "      <td>9391.500000</td>\n",
       "    </tr>\n",
       "    <tr>\n",
       "      <td>max</td>\n",
       "      <td>100.000000</td>\n",
       "      <td>23.000000</td>\n",
       "      <td>54.000000</td>\n",
       "      <td>100.000000</td>\n",
       "      <td>0.882648</td>\n",
       "      <td>97.510000</td>\n",
       "      <td>7.000000</td>\n",
       "      <td>64297.651218</td>\n",
       "      <td>5.00000</td>\n",
       "      <td>2.365378</td>\n",
       "      <td>12500.000000</td>\n",
       "    </tr>\n",
       "  </tbody>\n",
       "</table>\n",
       "</div>"
      ],
      "text/plain": [
       "       Safety_Score  Days_Since_Inspection  Total_Safety_Complaints  \\\n",
       "count  10000.000000           10000.000000             10000.000000   \n",
       "mean      41.876406              12.931100                 6.564300   \n",
       "std       16.138072               3.539803                 6.971982   \n",
       "min        0.000000               1.000000                 0.000000   \n",
       "25%       30.593607              11.000000                 2.000000   \n",
       "50%       41.278539              13.000000                 4.000000   \n",
       "75%       52.511416              15.000000                 9.000000   \n",
       "max      100.000000              23.000000                54.000000   \n",
       "\n",
       "       Control_Metric  Turbulence_In_gforces  Cabin_Temperature  \\\n",
       "count    10000.000000           10000.000000       10000.000000   \n",
       "mean        65.145324               0.381495          79.969331   \n",
       "std         11.882934               0.121301           2.759739   \n",
       "min          0.000000               0.134000          74.740000   \n",
       "25%         56.927985               0.293665          77.960000   \n",
       "50%         65.587967               0.365879          79.540000   \n",
       "75%         73.336372               0.451346          81.560000   \n",
       "max        100.000000               0.882648          97.510000   \n",
       "\n",
       "       Accident_Type_Code  Max_Elevation   Violations  Adverse_Weather_Metric  \\\n",
       "count        10000.000000   10000.000000  10000.00000            10000.000000   \n",
       "mean             3.814900   32001.803282      2.01220                0.255635   \n",
       "std              1.902577    9431.995196      1.03998                0.381128   \n",
       "min              1.000000     831.695553      0.00000                0.000316   \n",
       "25%              2.000000   25757.636908      1.00000                0.012063   \n",
       "50%              4.000000   32060.336419      2.00000                0.074467   \n",
       "75%              5.000000   38380.641513      3.00000                0.354059   \n",
       "max              7.000000   64297.651218      5.00000                2.365378   \n",
       "\n",
       "        Accident_ID  \n",
       "count  10000.000000  \n",
       "mean    6266.554200  \n",
       "std     3610.170288  \n",
       "min        2.000000  \n",
       "25%     3139.750000  \n",
       "50%     6280.500000  \n",
       "75%     9391.500000  \n",
       "max    12500.000000  "
      ]
     },
     "execution_count": 7,
     "metadata": {},
     "output_type": "execute_result"
    }
   ],
   "source": [
    "df.describe()"
   ]
  },
  {
   "cell_type": "code",
   "execution_count": 19,
   "metadata": {},
   "outputs": [
    {
     "ename": "TypeError",
     "evalue": "append() got an unexpected keyword argument 'axis'",
     "output_type": "error",
     "traceback": [
      "\u001b[1;31m---------------------------------------------------------------------------\u001b[0m",
      "\u001b[1;31mTypeError\u001b[0m                                 Traceback (most recent call last)",
      "\u001b[1;32m<ipython-input-19-95b0dd81990b>\u001b[0m in \u001b[0;36m<module>\u001b[1;34m\u001b[0m\n\u001b[1;32m----> 1\u001b[1;33m \u001b[0mdf\u001b[0m\u001b[1;33m.\u001b[0m\u001b[0mappend\u001b[0m\u001b[1;33m(\u001b[0m\u001b[0mpd\u001b[0m\u001b[1;33m.\u001b[0m\u001b[0mget_dummies\u001b[0m\u001b[1;33m(\u001b[0m\u001b[0mdf\u001b[0m\u001b[1;33m[\u001b[0m\u001b[1;34m'Accident_Type_Code'\u001b[0m\u001b[1;33m]\u001b[0m\u001b[1;33m)\u001b[0m\u001b[1;33m,\u001b[0m \u001b[0maxis\u001b[0m \u001b[1;33m=\u001b[0m \u001b[1;36m1\u001b[0m\u001b[1;33m)\u001b[0m\u001b[1;33m\u001b[0m\u001b[1;33m\u001b[0m\u001b[0m\n\u001b[0m",
      "\u001b[1;31mTypeError\u001b[0m: append() got an unexpected keyword argument 'axis'"
     ]
    }
   ],
   "source": [
    "#Assesing Feature importance\n"
   ]
  },
  {
   "cell_type": "code",
   "execution_count": null,
   "metadata": {},
   "outputs": [],
   "source": []
  }
 ],
 "metadata": {
  "kernelspec": {
   "display_name": "Python 3",
   "language": "python",
   "name": "python3"
  },
  "language_info": {
   "codemirror_mode": {
    "name": "ipython",
    "version": 3
   },
   "file_extension": ".py",
   "mimetype": "text/x-python",
   "name": "python",
   "nbconvert_exporter": "python",
   "pygments_lexer": "ipython3",
   "version": "3.7.4"
  }
 },
 "nbformat": 4,
 "nbformat_minor": 2
}
