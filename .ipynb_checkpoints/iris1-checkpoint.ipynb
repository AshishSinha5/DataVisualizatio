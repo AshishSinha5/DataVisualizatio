{
 "cells": [
  {
   "cell_type": "code",
   "execution_count": null,
   "metadata": {
    "collapsed": true
   },
   "outputs": [],
   "source": [
    "import matplotlib.pyplot as plt\n",
    "import pandas as pd\n",
    "import numpy as np\n",
    "import matplotlib\n",
    "plt.style.use('ggplot')\n",
    "%matplotlib inline"
   ]
  },
  {
   "cell_type": "code",
   "execution_count": null,
   "metadata": {
    "collapsed": true
   },
   "outputs": [],
   "source": [
    "import seaborn as sns\n",
    "sns.set(style=\"white\")"
   ]
  },
  {
   "cell_type": "code",
   "execution_count": null,
   "metadata": {
    "scrolled": true
   },
   "outputs": [],
   "source": [
    "df = pd.read_csv(\"Iris.csv\")\n",
    "df.head(10)"
   ]
  },
  {
   "cell_type": "code",
   "execution_count": null,
   "metadata": {},
   "outputs": [],
   "source": [
    "dfsepal1 = df[df['Species'] == list(set(df['Species']))[0]]['SepalLengthCm']\n",
    "dfsepal2 = df[df['Species'] == list(set(df['Species']))[1]]['SepalLengthCm']\n",
    "dfsepal3 = df[df['Species'] == list(set(df['Species']))[2]]['SepalLengthCm']\n",
    "plt.scatter([i for i in range(len(list(dfsepal1)))],list(dfsepal1),s=10, c='b', marker=\"o\", label=list(set(df['Species']))[0])\n",
    "plt.scatter([i for i in range(len(list(dfsepal2)))],list(dfsepal2),s=10, c='r', marker=\"s\", label=list(set(df['Species']))[1])\n",
    "plt.scatter([i for i in range(len(list(dfsepal3)))],list(dfsepal3),s=15, c='g', marker=\"x\", label=list(set(df['Species']))[2])\n",
    "plt.ylabel(\"SapelLength\")\n",
    "plt.legend()\n",
    "plt.plot()"
   ]
  },
  {
   "cell_type": "code",
   "execution_count": null,
   "metadata": {},
   "outputs": [],
   "source": [
    "df.describe()"
   ]
  },
  {
   "cell_type": "code",
   "execution_count": null,
   "metadata": {},
   "outputs": [],
   "source": [
    "df.kurtosis()"
   ]
  },
  {
   "cell_type": "code",
   "execution_count": null,
   "metadata": {},
   "outputs": [],
   "source": [
    "df.skew()"
   ]
  },
  {
   "cell_type": "code",
   "execution_count": null,
   "metadata": {},
   "outputs": [],
   "source": [
    "corr = df.corr()\n",
    "corr"
   ]
  },
  {
   "cell_type": "code",
   "execution_count": null,
   "metadata": {},
   "outputs": [],
   "source": [
    "mask = np.zeros_like(corr, dtype=np.bool)\n",
    "mask[np.triu_indices_from(mask)] = True\n",
    "f, ax = plt.subplots(figsize=(11, 9))\n",
    "cmap = sns.diverging_palette(220, 10, as_cmap=True)\n",
    "sns.heatmap(corr, mask=mask, cmap=cmap, vmax=.3, center=0,\n",
    "            square=True, linewidths=.5, cbar_kws={\"shrink\": .5})"
   ]
  },
  {
   "cell_type": "code",
   "execution_count": null,
   "metadata": {},
   "outputs": [],
   "source": [
    "dfsepal1 = df[df['Species'] == list(set(df['Species']))[0]]['SepalLengthCm']\n",
    "dfpetal1 = df[df['Species'] == list(set(df['Species']))[0]]['PetalLengthCm']\n",
    "dfsepal2 = df[df['Species'] == list(set(df['Species']))[1]]['SepalLengthCm']\n",
    "dfpetal2 = df[df['Species'] == list(set(df['Species']))[1]]['PetalLengthCm']\n",
    "dfsepal3 = df[df['Species'] == list(set(df['Species']))[2]]['SepalLengthCm']\n",
    "dfpetal3 = df[df['Species'] == list(set(df['Species']))[2]]['PetalLengthCm']\n",
    "plt.scatter(list(dfsepal1),list(dfpetal1),s=10, c='b', marker=\"o\", label=list(set(df['Species']))[0])\n",
    "plt.scatter(list(dfsepal2),list(dfpetal2),s=10, c='r', marker=\"s\", label=list(set(df['Species']))[1])\n",
    "plt.scatter(list(dfsepal3),list(dfpetal3),s=15, c='g', marker=\"x\", label=list(set(df['Species']))[2])\n",
    "plt.xlabel(\"SapelLength\")\n",
    "plt.ylabel(\"PetalLength\")\n",
    "plt.legend()\n",
    "plt.plot()"
   ]
  },
  {
   "cell_type": "code",
   "execution_count": null,
   "metadata": {},
   "outputs": [],
   "source": [
    "dfsepalw1 = df[df['Species'] == list(set(df['Species']))[0]]['SepalWidthCm']\n",
    "dfpetalw1 = df[df['Species'] == list(set(df['Species']))[0]]['PetalWidthCm']\n",
    "dfsepalw2 = df[df['Species'] == list(set(df['Species']))[1]]['SepalWidthCm']\n",
    "dfpetalw2 = df[df['Species'] == list(set(df['Species']))[1]]['PetalWidthCm']\n",
    "dfsepalw3 = df[df['Species'] == list(set(df['Species']))[2]]['SepalWidthCm']\n",
    "dfpetalw3 = df[df['Species'] == list(set(df['Species']))[2]]['PetalWidthCm']\n",
    "plt.scatter(list(dfsepalw1),list(dfpetalw1),s=10, c='b', marker=\"o\", label=list(set(df['Species']))[0])\n",
    "plt.scatter(list(dfsepalw2),list(dfpetalw2),s=10, c='r', marker=\"s\", label=list(set(df['Species']))[1])\n",
    "plt.scatter(list(dfsepalw3),list(dfpetalw3),s=15, c='g', marker=\"x\", label=list(set(df['Species']))[2])\n",
    "plt.xlabel(\"Sapelwidth\")\n",
    "plt.ylabel(\"Petalwidth\")\n",
    "plt.legend()\n",
    "plt.plot()"
   ]
  },
  {
   "cell_type": "code",
   "execution_count": null,
   "metadata": {},
   "outputs": [],
   "source": [
    "dfpetall1 = df[df['Species'] == list(set(df['Species']))[0]]['PetalLengthCm']\n",
    "dfpetalw1 = df[df['Species'] == list(set(df['Species']))[0]]['PetalWidthCm']\n",
    "dfpetall2 = df[df['Species'] == list(set(df['Species']))[1]]['PetalLengthCm']\n",
    "dfpetalw2 = df[df['Species'] == list(set(df['Species']))[1]]['PetalWidthCm']\n",
    "dfpetall3 = df[df['Species'] == list(set(df['Species']))[2]]['PetalLengthCm']\n",
    "dfpetalw3 = df[df['Species'] == list(set(df['Species']))[2]]['PetalWidthCm']\n",
    "plt.scatter(list(dfpetall1),list(dfpetalw1),s=10, c='b', marker=\"o\", label=list(set(df['Species']))[0])\n",
    "plt.scatter(list(dfpetall2),list(dfpetalw2),s=10, c='r', marker=\"s\", label=list(set(df['Species']))[1])\n",
    "plt.scatter(list(dfpetall3),list(dfpetalw3),s=15, c='g', marker=\"x\", label=list(set(df['Species']))[2])\n",
    "plt.xlabel(\"Sapelwidth\")\n",
    "plt.ylabel(\"Petalwidth\")\n",
    "plt.legend()\n",
    "plt.plot()"
   ]
  },
  {
   "cell_type": "code",
   "execution_count": null,
   "metadata": {},
   "outputs": [],
   "source": [
    "data = [dfpetall1, dfpetall2, dfpetall3]\n",
    "plt.ylabel(\"Petal Length\")\n",
    "plt.boxplot(data)\n",
    "plt.show()"
   ]
  },
  {
   "cell_type": "code",
   "execution_count": null,
   "metadata": {},
   "outputs": [],
   "source": [
    "data = [dfpetalw1, dfpetalw2, dfpetalw3]\n",
    "plt.ylabel(\"Petal Width\")\n",
    "plt.boxplot(data)\n",
    "plt.show()"
   ]
  },
  {
   "cell_type": "code",
   "execution_count": null,
   "metadata": {},
   "outputs": [],
   "source": [
    "labels=np.array(['SepalLengthCm', 'SepalWidthCm', 'PetalLengthCm', 'PetalWidthCm'])\n",
    "\n",
    "stats=df.loc[3,labels].values\n",
    "angles=np.linspace(0, 2*np.pi, len(labels), endpoint=False)\n",
    "# close the plot\n",
    "stats=np.concatenate((stats,[stats[0]]))\n",
    "angles=np.concatenate((angles,[angles[0]]))\n",
    "#Radar Plot\n",
    "fig=sns.plt.figure()\n",
    "ax = fig.add_subplot(111, polar=True)\n",
    "ax.plot(angles, stats, 'o-', linewidth=2)\n",
    "stats=df.loc[3,labels].values\n",
    "ax.set_thetagrids(angles * 180/np.pi, labels)\n",
    "ax.set_title([df.loc[3,\"Id\"]])\n",
    "ax.grid(True)"
   ]
  },
  {
   "cell_type": "code",
   "execution_count": null,
   "metadata": {
    "collapsed": true
   },
   "outputs": [],
   "source": []
  },
  {
   "cell_type": "code",
   "execution_count": null,
   "metadata": {
    "collapsed": true
   },
   "outputs": [],
   "source": []
  },
  {
   "cell_type": "code",
   "execution_count": null,
   "metadata": {
    "collapsed": true
   },
   "outputs": [],
   "source": []
  },
  {
   "cell_type": "code",
   "execution_count": null,
   "metadata": {
    "collapsed": true
   },
   "outputs": [],
   "source": []
  }
 ],
 "metadata": {
  "kernelspec": {
   "display_name": "Python [conda env:py35]",
   "language": "python",
   "name": "conda-env-py35-py"
  },
  "language_info": {
   "codemirror_mode": {
    "name": "ipython",
    "version": 3
   },
   "file_extension": ".py",
   "mimetype": "text/x-python",
   "name": "python",
   "nbconvert_exporter": "python",
   "pygments_lexer": "ipython3",
   "version": "3.5.3"
  }
 },
 "nbformat": 4,
 "nbformat_minor": 2
}
